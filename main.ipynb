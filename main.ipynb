{
 "cells": [
  {
   "cell_type": "code",
   "execution_count": 1,
   "metadata": {},
   "outputs": [
    {
     "name": "stdout",
     "output_type": "stream",
     "text": [
      "8.0\n"
     ]
    }
   ],
   "source": [
    "import numpy as np\n",
    "idx_list = [0,1,2]\n",
    "sent = ['hello','hi my name is nadir','hi there','whats your name']\n",
    "\n",
    "c = [len(sent[i]) for i in range(0,3) ]\n",
    "print(np.median(c))\n"
   ]
  },
  {
   "cell_type": "code",
   "execution_count": 1,
   "metadata": {},
   "outputs": [
    {
     "name": "stdout",
     "output_type": "stream",
     "text": [
      "Collecting git+https://github.com/ramsrigouthamg/Questgen.ai\n",
      "  Cloning https://github.com/ramsrigouthamg/Questgen.ai to c:\\users\\amnan\\appdata\\local\\temp\\pip-req-build-1t6qna2p\n",
      "Requirement already satisfied: torch==1.9.0 in c:\\users\\amnan\\anaconda3\\lib\\site-packages (from Questgen==1.0.0) (1.9.0)\n",
      "Requirement already satisfied: transformers==3.0.2 in c:\\users\\amnan\\anaconda3\\lib\\site-packages (from Questgen==1.0.0) (3.0.2)\n",
      "Requirement already satisfied: pytorch_lightning==0.8.1 in c:\\users\\amnan\\anaconda3\\lib\\site-packages (from Questgen==1.0.0) (0.8.1)\n",
      "Requirement already satisfied: sense2vec==1.0.3 in c:\\users\\amnan\\anaconda3\\lib\\site-packages (from Questgen==1.0.0) (1.0.3)\n",
      "Requirement already satisfied: strsim==0.0.3 in c:\\users\\amnan\\anaconda3\\lib\\site-packages (from Questgen==1.0.0) (0.0.3)\n",
      "Requirement already satisfied: six==1.15.0 in c:\\users\\amnan\\anaconda3\\lib\\site-packages (from Questgen==1.0.0) (1.15.0)\n",
      "Requirement already satisfied: networkx==2.4.0 in c:\\users\\amnan\\anaconda3\\lib\\site-packages (from Questgen==1.0.0) (2.4)\n"
     ]
    },
    {
     "name": "stderr",
     "output_type": "stream",
     "text": [
      "  Running command git clone -q https://github.com/ramsrigouthamg/Questgen.ai 'C:\\Users\\amnan\\AppData\\Local\\Temp\\pip-req-build-1t6qna2p'\n"
     ]
    },
    {
     "name": "stdout",
     "output_type": "stream",
     "text": [
      "Requirement already satisfied: numpy in c:\\users\\amnan\\anaconda3\\lib\\site-packages (from Questgen==1.0.0) (1.18.5)\n",
      "Requirement already satisfied: scipy in c:\\users\\amnan\\anaconda3\\lib\\site-packages (from Questgen==1.0.0) (1.6.2)\n",
      "Requirement already satisfied: scikit-learn in c:\\users\\amnan\\anaconda3\\lib\\site-packages (from Questgen==1.0.0) (0.24.1)\n",
      "Requirement already satisfied: unidecode==1.1.1 in c:\\users\\amnan\\anaconda3\\lib\\site-packages (from Questgen==1.0.0) (1.1.1)\n",
      "Requirement already satisfied: future==0.18.2 in c:\\users\\amnan\\anaconda3\\lib\\site-packages (from Questgen==1.0.0) (0.18.2)\n",
      "Requirement already satisfied: joblib==0.14.1 in c:\\users\\amnan\\anaconda3\\lib\\site-packages (from Questgen==1.0.0) (0.14.1)\n",
      "Requirement already satisfied: spacy==2.2.4 in c:\\users\\amnan\\anaconda3\\lib\\site-packages (from Questgen==1.0.0) (2.2.4)\n",
      "Requirement already satisfied: pytz==2020.1 in c:\\users\\amnan\\anaconda3\\lib\\site-packages (from Questgen==1.0.0) (2020.1)\n",
      "Requirement already satisfied: python-dateutil==2.8.1 in c:\\users\\amnan\\anaconda3\\lib\\site-packages (from Questgen==1.0.0) (2.8.1)\n",
      "Requirement already satisfied: boto3==1.14.40 in c:\\users\\amnan\\anaconda3\\lib\\site-packages (from Questgen==1.0.0) (1.14.40)\n",
      "Requirement already satisfied: flashtext==2.7 in c:\\users\\amnan\\anaconda3\\lib\\site-packages (from Questgen==1.0.0) (2.7)\n",
      "Requirement already satisfied: pandas in c:\\users\\amnan\\anaconda3\\lib\\site-packages (from Questgen==1.0.0) (1.2.4)\n",
      "Requirement already satisfied: botocore<1.18.0,>=1.17.40 in c:\\users\\amnan\\anaconda3\\lib\\site-packages (from boto3==1.14.40->Questgen==1.0.0) (1.17.63)\n",
      "Requirement already satisfied: jmespath<1.0.0,>=0.7.1 in c:\\users\\amnan\\anaconda3\\lib\\site-packages (from boto3==1.14.40->Questgen==1.0.0) (0.10.0)\n",
      "Requirement already satisfied: s3transfer<0.4.0,>=0.3.0 in c:\\users\\amnan\\anaconda3\\lib\\site-packages (from boto3==1.14.40->Questgen==1.0.0) (0.3.7)\n",
      "Requirement already satisfied: decorator>=4.3.0 in c:\\users\\amnan\\anaconda3\\lib\\site-packages (from networkx==2.4.0->Questgen==1.0.0) (5.0.6)\n",
      "Requirement already satisfied: tqdm>=4.41.0 in c:\\users\\amnan\\anaconda3\\lib\\site-packages (from pytorch_lightning==0.8.1->Questgen==1.0.0) (4.62.2)\n",
      "Requirement already satisfied: PyYAML>=5.1 in c:\\users\\amnan\\anaconda3\\lib\\site-packages (from pytorch_lightning==0.8.1->Questgen==1.0.0) (5.4.1)\n",
      "Requirement already satisfied: tensorboard>=1.14 in c:\\users\\amnan\\anaconda3\\lib\\site-packages (from pytorch_lightning==0.8.1->Questgen==1.0.0) (2.5.0)\n",
      "Requirement already satisfied: catalogue>=0.0.4 in c:\\users\\amnan\\anaconda3\\lib\\site-packages (from sense2vec==1.0.3->Questgen==1.0.0) (1.0.0)\n",
      "Requirement already satisfied: wasabi<1.1.0,>=0.4.0 in c:\\users\\amnan\\anaconda3\\lib\\site-packages (from sense2vec==1.0.3->Questgen==1.0.0) (0.8.2)\n",
      "Requirement already satisfied: srsly>=0.2.0 in c:\\users\\amnan\\anaconda3\\lib\\site-packages (from sense2vec==1.0.3->Questgen==1.0.0) (1.0.5)\n",
      "Requirement already satisfied: cymem<2.1.0,>=2.0.2 in c:\\users\\amnan\\anaconda3\\lib\\site-packages (from spacy==2.2.4->Questgen==1.0.0) (2.0.6)\n",
      "Requirement already satisfied: requests<3.0.0,>=2.13.0 in c:\\users\\amnan\\anaconda3\\lib\\site-packages (from spacy==2.2.4->Questgen==1.0.0) (2.25.1)\n",
      "Requirement already satisfied: setuptools in c:\\users\\amnan\\anaconda3\\lib\\site-packages (from spacy==2.2.4->Questgen==1.0.0) (52.0.0.post20210125)\n",
      "Requirement already satisfied: plac<1.2.0,>=0.9.6 in c:\\users\\amnan\\anaconda3\\lib\\site-packages (from spacy==2.2.4->Questgen==1.0.0) (1.1.3)\n",
      "Requirement already satisfied: preshed<3.1.0,>=3.0.2 in c:\\users\\amnan\\anaconda3\\lib\\site-packages (from spacy==2.2.4->Questgen==1.0.0) (3.0.6)\n",
      "Requirement already satisfied: blis<0.5.0,>=0.4.0 in c:\\users\\amnan\\anaconda3\\lib\\site-packages (from spacy==2.2.4->Questgen==1.0.0) (0.4.1)\n",
      "Requirement already satisfied: murmurhash<1.1.0,>=0.28.0 in c:\\users\\amnan\\anaconda3\\lib\\site-packages (from spacy==2.2.4->Questgen==1.0.0) (1.0.6)\n",
      "Requirement already satisfied: thinc==7.4.0 in c:\\users\\amnan\\anaconda3\\lib\\site-packages (from spacy==2.2.4->Questgen==1.0.0) (7.4.0)\n",
      "Requirement already satisfied: typing-extensions in c:\\users\\amnan\\anaconda3\\lib\\site-packages (from torch==1.9.0->Questgen==1.0.0) (3.7.4.3)\n",
      "Requirement already satisfied: packaging in c:\\users\\amnan\\anaconda3\\lib\\site-packages (from transformers==3.0.2->Questgen==1.0.0) (20.9)\n",
      "Requirement already satisfied: filelock in c:\\users\\amnan\\anaconda3\\lib\\site-packages (from transformers==3.0.2->Questgen==1.0.0) (3.0.12)\n",
      "Requirement already satisfied: regex!=2019.12.17 in c:\\users\\amnan\\anaconda3\\lib\\site-packages (from transformers==3.0.2->Questgen==1.0.0) (2021.4.4)\n",
      "Requirement already satisfied: sacremoses in c:\\users\\amnan\\anaconda3\\lib\\site-packages (from transformers==3.0.2->Questgen==1.0.0) (0.0.45)\n",
      "Requirement already satisfied: sentencepiece!=0.1.92 in c:\\users\\amnan\\anaconda3\\lib\\site-packages (from transformers==3.0.2->Questgen==1.0.0) (0.1.96)\n",
      "Requirement already satisfied: tokenizers==0.8.1.rc1 in c:\\users\\amnan\\anaconda3\\lib\\site-packages (from transformers==3.0.2->Questgen==1.0.0) (0.8.1rc1)\n",
      "Requirement already satisfied: urllib3<1.26,>=1.20 in c:\\users\\amnan\\anaconda3\\lib\\site-packages (from botocore<1.18.0,>=1.17.40->boto3==1.14.40->Questgen==1.0.0) (1.25.11)\n",
      "Requirement already satisfied: docutils<0.16,>=0.10 in c:\\users\\amnan\\anaconda3\\lib\\site-packages (from botocore<1.18.0,>=1.17.40->boto3==1.14.40->Questgen==1.0.0) (0.15.2)\n",
      "Requirement already satisfied: idna<3,>=2.5 in c:\\users\\amnan\\anaconda3\\lib\\site-packages (from requests<3.0.0,>=2.13.0->spacy==2.2.4->Questgen==1.0.0) (2.10)\n",
      "Requirement already satisfied: chardet<5,>=3.0.2 in c:\\users\\amnan\\anaconda3\\lib\\site-packages (from requests<3.0.0,>=2.13.0->spacy==2.2.4->Questgen==1.0.0) (3.0.4)\n",
      "Requirement already satisfied: certifi>=2017.4.17 in c:\\users\\amnan\\anaconda3\\lib\\site-packages (from requests<3.0.0,>=2.13.0->spacy==2.2.4->Questgen==1.0.0) (2020.12.5)\n",
      "Requirement already satisfied: tensorboard-data-server<0.7.0,>=0.6.0 in c:\\users\\amnan\\anaconda3\\lib\\site-packages (from tensorboard>=1.14->pytorch_lightning==0.8.1->Questgen==1.0.0) (0.6.1)\n",
      "Requirement already satisfied: wheel>=0.26 in c:\\users\\amnan\\anaconda3\\lib\\site-packages (from tensorboard>=1.14->pytorch_lightning==0.8.1->Questgen==1.0.0) (0.36.2)\n",
      "Requirement already satisfied: grpcio>=1.24.3 in c:\\users\\amnan\\anaconda3\\lib\\site-packages (from tensorboard>=1.14->pytorch_lightning==0.8.1->Questgen==1.0.0) (1.34.1)\n",
      "Requirement already satisfied: google-auth-oauthlib<0.5,>=0.4.1 in c:\\users\\amnan\\anaconda3\\lib\\site-packages (from tensorboard>=1.14->pytorch_lightning==0.8.1->Questgen==1.0.0) (0.4.4)\n",
      "Requirement already satisfied: tensorboard-plugin-wit>=1.6.0 in c:\\users\\amnan\\anaconda3\\lib\\site-packages (from tensorboard>=1.14->pytorch_lightning==0.8.1->Questgen==1.0.0) (1.8.0)\n",
      "Requirement already satisfied: markdown>=2.6.8 in c:\\users\\amnan\\anaconda3\\lib\\site-packages (from tensorboard>=1.14->pytorch_lightning==0.8.1->Questgen==1.0.0) (3.3.4)\n",
      "Requirement already satisfied: absl-py>=0.4 in c:\\users\\amnan\\anaconda3\\lib\\site-packages (from tensorboard>=1.14->pytorch_lightning==0.8.1->Questgen==1.0.0) (0.13.0)\n",
      "Requirement already satisfied: google-auth<2,>=1.6.3 in c:\\users\\amnan\\anaconda3\\lib\\site-packages (from tensorboard>=1.14->pytorch_lightning==0.8.1->Questgen==1.0.0) (1.33.1)\n",
      "Requirement already satisfied: protobuf>=3.6.0 in c:\\users\\amnan\\anaconda3\\lib\\site-packages (from tensorboard>=1.14->pytorch_lightning==0.8.1->Questgen==1.0.0) (3.17.3)\n",
      "Requirement already satisfied: werkzeug>=0.11.15 in c:\\users\\amnan\\anaconda3\\lib\\site-packages (from tensorboard>=1.14->pytorch_lightning==0.8.1->Questgen==1.0.0) (1.0.1)\n",
      "Requirement already satisfied: pyasn1-modules>=0.2.1 in c:\\users\\amnan\\anaconda3\\lib\\site-packages (from google-auth<2,>=1.6.3->tensorboard>=1.14->pytorch_lightning==0.8.1->Questgen==1.0.0) (0.2.8)\n",
      "Requirement already satisfied: cachetools<5.0,>=2.0.0 in c:\\users\\amnan\\anaconda3\\lib\\site-packages (from google-auth<2,>=1.6.3->tensorboard>=1.14->pytorch_lightning==0.8.1->Questgen==1.0.0) (4.2.2)\n",
      "Requirement already satisfied: rsa<5,>=3.1.4 in c:\\users\\amnan\\anaconda3\\lib\\site-packages (from google-auth<2,>=1.6.3->tensorboard>=1.14->pytorch_lightning==0.8.1->Questgen==1.0.0) (4.7.2)\n",
      "Requirement already satisfied: requests-oauthlib>=0.7.0 in c:\\users\\amnan\\anaconda3\\lib\\site-packages (from google-auth-oauthlib<0.5,>=0.4.1->tensorboard>=1.14->pytorch_lightning==0.8.1->Questgen==1.0.0) (1.3.0)\n",
      "Requirement already satisfied: pyasn1<0.5.0,>=0.4.6 in c:\\users\\amnan\\anaconda3\\lib\\site-packages (from pyasn1-modules>=0.2.1->google-auth<2,>=1.6.3->tensorboard>=1.14->pytorch_lightning==0.8.1->Questgen==1.0.0) (0.4.8)\n",
      "Requirement already satisfied: oauthlib>=3.0.0 in c:\\users\\amnan\\anaconda3\\lib\\site-packages (from requests-oauthlib>=0.7.0->google-auth-oauthlib<0.5,>=0.4.1->tensorboard>=1.14->pytorch_lightning==0.8.1->Questgen==1.0.0) (3.1.1)\n",
      "Requirement already satisfied: colorama in c:\\users\\amnan\\anaconda3\\lib\\site-packages (from tqdm>=4.41.0->pytorch_lightning==0.8.1->Questgen==1.0.0) (0.4.4)\n",
      "Requirement already satisfied: pyparsing>=2.0.2 in c:\\users\\amnan\\anaconda3\\lib\\site-packages (from packaging->transformers==3.0.2->Questgen==1.0.0) (2.4.7)\n",
      "Requirement already satisfied: click in c:\\users\\amnan\\anaconda3\\lib\\site-packages (from sacremoses->transformers==3.0.2->Questgen==1.0.0) (7.1.2)\n",
      "Requirement already satisfied: threadpoolctl>=2.0.0 in c:\\users\\amnan\\anaconda3\\lib\\site-packages (from scikit-learn->Questgen==1.0.0) (2.1.0)\n"
     ]
    }
   ],
   "source": [
    "!pip install git+https://github.com/ramsrigouthamg/Questgen.ai"
   ]
  },
  {
   "cell_type": "code",
   "execution_count": 33,
   "metadata": {},
   "outputs": [
    {
     "name": "stdout",
     "output_type": "stream",
     "text": [
      "['', 'Celebrate the irresistible flavour of coffee in our range of espresso cocktails and iced drinks or munch on cappuccino cakes, tiramisu, ice creams and more.', 'Love a good coffee drink? Or simply wondering the differences between the types? Here’s a list of our top popular coffee drinks that give you the most bang for your buck: and are easy to make at home! We love coffeeshops, but there’s something special about mixing up coffee recipes at home, too. Whether you’re trying to understand the difference between a latte vs flat white or ready to whip them up at home…we’ve got you covered! Here are our top 10 coffee drinks to make, and recipes for each one.  ']\n"
     ]
    }
   ],
   "source": [
    "app_secret = 'e478f284e8aa736bc21fd8691ae7d08f14680d2e6a1fac7a8d6ad1f51e1b358f'\n",
    "from serpapi import GoogleSearch\n",
    "search = GoogleSearch({\n",
    "    \"q\": \"coffee\", \n",
    "    \"location\": \"Austin,Texas\",\n",
    "    \"api_key\": app_secret\n",
    "  })\n",
    "result = search.get_dict()\n",
    "final_results= []\n",
    "for item in result['recipes_results']:\n",
    "  url = item['link']\n",
    "  response = get(url)\n",
    "  html_soup = BeautifulSoup(response.text, 'html.parser')\n",
    "  p_list = html_soup.find_all('p')[:10]\n",
    "  text = ''\n",
    "  for p in p_list:\n",
    "      if len(p.text) > len(text):\n",
    "          text = p.text\n",
    "  final_results.append(text)\n",
    "print(final_results)\n",
    "\n"
   ]
  },
  {
   "cell_type": "code",
   "execution_count": 36,
   "metadata": {},
   "outputs": [
    {
     "name": "stdout",
     "output_type": "stream",
     "text": [
      "  title text\n",
      "0   hii  NaN\n"
     ]
    }
   ],
   "source": [
    "import pandas as pd\n",
    "df = pd.DataFrame(columns=['title','text'])\n",
    "df.loc[0] = {'title':'hii'}\n",
    "print(df)"
   ]
  },
  {
   "cell_type": "code",
   "execution_count": 30,
   "metadata": {},
   "outputs": [
    {
     "name": "stdout",
     "output_type": "stream",
     "text": [
      "\n",
      "Imprisoned on the planet Sakaar, Thor must race against time to return to Asgard and stop Ragnarök, the destruction of his world, at the hands of the powerful and ruthless villain Hela.\n"
     ]
    }
   ],
   "source": [
    "from bs4 import BeautifulSoup\n",
    "from requests import get\n",
    "url = 'https://www.imdb.com/search/title?release_date=2017&sort=num_votes,desc&page=1'\n",
    "response = get(url)\n",
    "html_soup = BeautifulSoup(response.text, 'html.parser')\n",
    "print(html_soup.find_all('p')[5].text)"
   ]
  },
  {
   "cell_type": "code",
   "execution_count": 72,
   "metadata": {},
   "outputs": [
    {
     "name": "stdout",
     "output_type": "stream",
     "text": [
      "addding ...\n",
      "If they but knew it, almost all men in their degree, some time or other, cherish very nearly the same feelings towards the ocean with me.\"\n",
      "***\n",
      "addding ...\n",
      "With a philosophical flourish Cato throws himself upon his sword; I quietly take to the ship.\n",
      "***\n",
      "ngram                                                    cherish\n",
      "sentence       If they but knew it, almost all men in their d...\n",
      "start_index                                                 1052\n",
      "end_index                                                   1059\n",
      "Name: 0, dtype: object\n"
     ]
    }
   ],
   "source": [
    "from nltk import ngrams, tokenize\n",
    "text = ' \"Call me Ishmael. Some years ago — never mind how long precisely — having little or no money in my purse, and nothing particular to interest me on shore, I thought I would sail about a little and see the watery part of the world. It is a way I have of driving off the spleen, and regulating the circulation. Whenever I find myself growing grim about the mouth; whenever it is a damp, drizzly November in my soul; whenever I find myself involuntarily pausing before coffin warehouses, and bringing up the rear of every funeral I meet; and especially whenever my hypos get such an upper hand of me, that it requires a strong moral principle to prevent me from deliberately stepping into the street, and methodically knocking people’s hats off — then, I account it high time to get to sea as soon as I can. This is my substitute for pistol and ball. With a philosophical flourish Cato throws himself upon his sword; I quietly take to the ship. There is nothing surprising in this. If they but knew it, almost all men in their degree, some time or other, cherish very nearly the same feelings towards the ocean with me.\"'\n",
    "sentence = 'this is a foo bar sentences and i want to ngramize it'\n",
    "import pandas as pd\n",
    "def get_ngrams(text,n):\n",
    "    ngram = ngrams(text.split(), n)\n",
    "    results = []\n",
    "    idx = []\n",
    "   # print('Text')\n",
    "  #  print(text)\n",
    "    #print('ngrams = 3')\n",
    "    for i in ngram:\n",
    "       # print(i)\n",
    "        results.append(i)\n",
    "    return results\n",
    "ngrams_demo = get_ngrams(text, 3)\n",
    "\n",
    "def get_results(list_ngrams, text):\n",
    "\n",
    "    df=pd.DataFrame(columns=['ngram','sentence','start_index','end_index'])\n",
    "    found_sentences = set()\n",
    "    sentences = sent_tokenize(text)\n",
    "\n",
    "    idx = []\n",
    "    for ngram in list_ngrams:\n",
    "        for sentence in sentences:\n",
    "            if  ngram in sentence:\n",
    "                print('addding ...')\n",
    "                print(sentence)\n",
    "                print('***')\n",
    "                sidx = text.index(ngram)\n",
    "                endidx = sidx + len(ngram)\n",
    "                df.loc[len(df)] = {'ngram':ngram,'sentence':sentence,'start_index':sidx,'end_index':endidx}\n",
    "                break\n",
    "    return df\n",
    "df = get_results([\"cherish\", \"philosophical flourish\" ],text)\n",
    "print(df.loc[0])\n"
   ]
  },
  {
   "cell_type": "code",
   "execution_count": 50,
   "metadata": {},
   "outputs": [
    {
     "data": {
      "text/plain": [
       "[' \"Call me Ishmael.',\n",
       " 'Some years ago — never mind how long precisely — having little or no money in my purse, and nothing particular to interest me on shore, I thought I would sail about a little and see the watery part of the world.',\n",
       " 'It is a way I have of driving off the spleen, and regulating the circulation.',\n",
       " 'Whenever I find myself growing grim about the mouth; whenever it is a damp, drizzly November in my soul; whenever I find myself involuntarily pausing before coffin warehouses, and bringing up the rear of every funeral I meet; and especially whenever my hypos get such an upper hand of me, that it requires a strong moral principle to prevent me from deliberately stepping into the street, and methodically knocking people’s hats off — then, I account it high time to get to sea as soon as I can.',\n",
       " 'This is my substitute for pistol and ball.',\n",
       " 'With a philosophical flourish Cato throws himself upon his sword; I quietly take to the ship.',\n",
       " 'There is nothing surprising in this.',\n",
       " 'If they but knew it, almost all men in their degree, some time or other, cherish very nearly the same feelings towards the ocean with me.\"']"
      ]
     },
     "execution_count": 50,
     "metadata": {},
     "output_type": "execute_result"
    }
   ],
   "source": [
    "sent_tokenize(text)"
   ]
  },
  {
   "cell_type": "code",
   "execution_count": 1,
   "metadata": {},
   "outputs": [
    {
     "name": "stderr",
     "output_type": "stream",
     "text": [
      "[nltk_data] Downloading package punkt to\n",
      "[nltk_data]     C:\\Users\\amnan\\AppData\\Roaming\\nltk_data...\n",
      "[nltk_data]   Package punkt is already up-to-date!\n"
     ]
    },
    {
     "data": {
      "text/plain": [
       "True"
      ]
     },
     "execution_count": 1,
     "metadata": {},
     "output_type": "execute_result"
    }
   ],
   "source": [
    "from nltk.tokenize import sent_tokenize, word_tokenize\n",
    "import nltk\n",
    "nltk.download('punkt')"
   ]
  },
  {
   "cell_type": "code",
   "execution_count": 5,
   "metadata": {},
   "outputs": [
    {
     "name": "stdout",
     "output_type": "stream",
     "text": [
      "Collecting spacy\n",
      "  Downloading spacy-3.2.0-cp38-cp38-win_amd64.whl (12.1 MB)\n",
      "Collecting murmurhash<1.1.0,>=0.28.0\n",
      "  Downloading murmurhash-1.0.6-cp38-cp38-win_amd64.whl (21 kB)\n",
      "Collecting pydantic!=1.8,!=1.8.1,<1.9.0,>=1.7.4\n",
      "  Downloading pydantic-1.8.2-cp38-cp38-win_amd64.whl (2.0 MB)\n",
      "Collecting spacy-loggers<2.0.0,>=1.0.0\n",
      "  Downloading spacy_loggers-1.0.1-py3-none-any.whl (7.0 kB)\n",
      "Collecting blis<0.8.0,>=0.4.0\n",
      "  Downloading blis-0.7.5-cp38-cp38-win_amd64.whl (6.6 MB)\n",
      "Requirement already satisfied: jinja2 in c:\\users\\amnan\\anaconda3\\lib\\site-packages (from spacy) (2.11.3)\n",
      "Collecting preshed<3.1.0,>=3.0.2\n",
      "  Downloading preshed-3.0.6-cp38-cp38-win_amd64.whl (113 kB)\n",
      "Collecting catalogue<2.1.0,>=2.0.6\n",
      "  Downloading catalogue-2.0.6-py3-none-any.whl (17 kB)\n",
      "Requirement already satisfied: packaging>=20.0 in c:\\users\\amnan\\anaconda3\\lib\\site-packages (from spacy) (20.9)\n",
      "Collecting typer<0.5.0,>=0.3.0\n",
      "  Downloading typer-0.4.0-py3-none-any.whl (27 kB)\n",
      "Collecting wasabi<1.1.0,>=0.8.1\n",
      "  Downloading wasabi-0.8.2-py3-none-any.whl (23 kB)\n",
      "Collecting srsly<3.0.0,>=2.4.1\n",
      "  Downloading srsly-2.4.2-cp38-cp38-win_amd64.whl (452 kB)\n",
      "Requirement already satisfied: requests<3.0.0,>=2.13.0 in c:\\users\\amnan\\anaconda3\\lib\\site-packages (from spacy) (2.25.1)\n",
      "Requirement already satisfied: setuptools in c:\\users\\amnan\\anaconda3\\lib\\site-packages (from spacy) (52.0.0.post20210125)\n",
      "Collecting thinc<8.1.0,>=8.0.12\n",
      "  Downloading thinc-8.0.13-cp38-cp38-win_amd64.whl (1.0 MB)\n",
      "Collecting cymem<2.1.0,>=2.0.2\n",
      "  Downloading cymem-2.0.6-cp38-cp38-win_amd64.whl (36 kB)\n",
      "Collecting langcodes<4.0.0,>=3.2.0\n",
      "  Downloading langcodes-3.3.0-py3-none-any.whl (181 kB)\n",
      "Requirement already satisfied: numpy>=1.15.0 in c:\\users\\amnan\\anaconda3\\lib\\site-packages (from spacy) (1.18.5)\n",
      "Collecting pathy>=0.3.5\n",
      "  Downloading pathy-0.6.1-py3-none-any.whl (42 kB)\n",
      "Collecting spacy-legacy<3.1.0,>=3.0.8\n",
      "  Downloading spacy_legacy-3.0.8-py2.py3-none-any.whl (14 kB)\n",
      "Requirement already satisfied: tqdm<5.0.0,>=4.38.0 in c:\\users\\amnan\\anaconda3\\lib\\site-packages (from spacy) (4.62.2)\n",
      "Requirement already satisfied: pyparsing>=2.0.2 in c:\\users\\amnan\\anaconda3\\lib\\site-packages (from packaging>=20.0->spacy) (2.4.7)\n",
      "Collecting smart-open<6.0.0,>=5.0.0\n",
      "  Downloading smart_open-5.2.1-py3-none-any.whl (58 kB)\n",
      "Requirement already satisfied: typing-extensions>=3.7.4.3 in c:\\users\\amnan\\anaconda3\\lib\\site-packages (from pydantic!=1.8,!=1.8.1,<1.9.0,>=1.7.4->spacy) (3.7.4.3)\n",
      "Requirement already satisfied: certifi>=2017.4.17 in c:\\users\\amnan\\anaconda3\\lib\\site-packages (from requests<3.0.0,>=2.13.0->spacy) (2020.12.5)\n",
      "Requirement already satisfied: chardet<5,>=3.0.2 in c:\\users\\amnan\\anaconda3\\lib\\site-packages (from requests<3.0.0,>=2.13.0->spacy) (3.0.4)\n",
      "Requirement already satisfied: urllib3<1.27,>=1.21.1 in c:\\users\\amnan\\anaconda3\\lib\\site-packages (from requests<3.0.0,>=2.13.0->spacy) (1.26.6)\n",
      "Requirement already satisfied: idna<3,>=2.5 in c:\\users\\amnan\\anaconda3\\lib\\site-packages (from requests<3.0.0,>=2.13.0->spacy) (2.10)\n",
      "Requirement already satisfied: colorama in c:\\users\\amnan\\anaconda3\\lib\\site-packages (from tqdm<5.0.0,>=4.38.0->spacy) (0.4.4)\n",
      "Requirement already satisfied: click<9.0.0,>=7.1.1 in c:\\users\\amnan\\anaconda3\\lib\\site-packages (from typer<0.5.0,>=0.3.0->spacy) (7.1.2)\n",
      "Requirement already satisfied: MarkupSafe>=0.23 in c:\\users\\amnan\\anaconda3\\lib\\site-packages (from jinja2->spacy) (1.1.1)\n",
      "Installing collected packages: murmurhash, cymem, catalogue, wasabi, typer, srsly, smart-open, pydantic, preshed, blis, thinc, spacy-loggers, spacy-legacy, pathy, langcodes, spacy\n",
      "Successfully installed blis-0.7.5 catalogue-2.0.6 cymem-2.0.6 langcodes-3.3.0 murmurhash-1.0.6 pathy-0.6.1 preshed-3.0.6 pydantic-1.8.2 smart-open-5.2.1 spacy-3.2.0 spacy-legacy-3.0.8 spacy-loggers-1.0.1 srsly-2.4.2 thinc-8.0.13 typer-0.4.0 wasabi-0.8.2\n"
     ]
    }
   ],
   "source": [
    "!pip3 install spacy"
   ]
  },
  {
   "cell_type": "code",
   "execution_count": 2,
   "metadata": {},
   "outputs": [
    {
     "name": "stderr",
     "output_type": "stream",
     "text": [
      "C:\\Users\\amnan\\anaconda3\\lib\\site-packages\\torch\\_tensor.py:575: UserWarning: floor_divide is deprecated, and will be removed in a future version of pytorch. It currently rounds toward 0 (like the 'trunc' function NOT 'floor'). This results in incorrect rounding for negative values.\n",
      "To keep the current behavior, use torch.div(a, b, rounding_mode='trunc'), or for actual floor division, use torch.div(a, b, rounding_mode='floor'). (Triggered internally at  ..\\aten\\src\\ATen\\native\\BinaryOps.cpp:467.)\n",
      "  return torch.floor_divide(self, other)\n"
     ]
    },
    {
     "name": "stdout",
     "output_type": "stream",
     "text": [
      "{'Boolean Questions': ['Is sachin ramesh tendulkar the highest run scorer in '\n",
      "                       'cricket?',\n",
      "                       'Is sachin ramesh tendulkar the highest run scorer in '\n",
      "                       'cricket?',\n",
      "                       'Is sachin tendulkar the highest run scorer in '\n",
      "                       'cricket?'],\n",
      " 'Count': 4,\n",
      " 'Text': 'Sachin Ramesh Tendulkar is a former international cricketer from '\n",
      "         'India and a former captain of the Indian national team. He is widely '\n",
      "         'regarded as one of the greatest batsmen in the history of cricket. '\n",
      "         'He is the highest run scorer of all time in International cricket.'}\n"
     ]
    }
   ],
   "source": [
    "from nltk.tokenize import sent_tokenize, word_tokenize\n",
    "import nltk\n",
    "nltk.download('punkt')\n",
    "from pprint import pprint\n",
    "import nltk\n",
    "nltk.download('stopwords')\n",
    "from Questgen import main as m\n",
    "qe= main.BoolQGen()\n",
    "payload = {\n",
    "            \"input_text\": \"Sachin Ramesh Tendulkar is a former international cricketer from India and a former captain of the Indian national team. He is widely regarded as one of the greatest batsmen in the history of cricket. He is the highest run scorer of all time in International cricket.\"\n",
    "        }\n",
    "output = qe.predict_boolq(payload)\n",
    "pprint (output)"
   ]
  },
  {
   "cell_type": "code",
   "execution_count": 35,
   "metadata": {},
   "outputs": [],
   "source": [
    "pke = None"
   ]
  },
  {
   "cell_type": "code",
   "execution_count": 26,
   "metadata": {},
   "outputs": [
    {
     "name": "stderr",
     "output_type": "stream",
     "text": [
      "ERROR: Could not find a version that satisfies the requirement pke\n",
      "ERROR: No matching distribution found for pke\n"
     ]
    }
   ],
   "source": [
    "#pip install git+https://github.com/ramsrigouthamg/Questgen.ai\n",
    "#pip install git+https://github.com/boudinfl/pke.git\n",
    "\n",
    "python -m nltk.downloader universal_tagset\n",
    "python -m spacy download en "
   ]
  },
  {
   "cell_type": "code",
   "execution_count": 24,
   "metadata": {},
   "outputs": [
    {
     "name": "stdout",
     "output_type": "stream",
     "text": [
      "Collecting Questgen\n",
      "  Downloading questgen-0.4.2-py3-none-any.whl (65 kB)\n",
      "Installing collected packages: Questgen\n",
      "Successfully installed Questgen-0.4.2\n"
     ]
    }
   ],
   "source": [
    "!pip install Questgen\n",
    "#!python -m nltk.downloader universal_tagset\n",
    "#!python -m spacy download en "
   ]
  },
  {
   "cell_type": "code",
   "execution_count": 1,
   "metadata": {},
   "outputs": [
    {
     "name": "stdout",
     "output_type": "stream",
     "text": [
      "Collecting git+https://github.com/ramsrigouthamg/Questgen.ai\n",
      "  Cloning https://github.com/ramsrigouthamg/Questgen.ai to c:\\users\\amnan\\appdata\\local\\temp\\pip-req-build-acbb4j01\n",
      "Requirement already satisfied: torch==1.9.0 in c:\\users\\amnan\\anaconda3\\lib\\site-packages (from Questgen==1.0.0) (1.9.0)\n",
      "Collecting transformers==3.0.2\n",
      "  Downloading transformers-3.0.2-py3-none-any.whl (769 kB)\n",
      "Collecting pytorch_lightning==0.8.1\n",
      "  Downloading pytorch_lightning-0.8.1-py3-none-any.whl (293 kB)\n",
      "Collecting sense2vec==1.0.3\n",
      "  Downloading sense2vec-1.0.3-py2.py3-none-any.whl (35 kB)\n",
      "Collecting strsim==0.0.3\n",
      "  Downloading strsim-0.0.3-py3-none-any.whl (42 kB)\n",
      "Requirement already satisfied: six==1.15.0 in c:\\users\\amnan\\anaconda3\\lib\\site-packages (from Questgen==1.0.0) (1.15.0)\n",
      "Collecting networkx==2.4.0\n",
      "  Using cached networkx-2.4-py3-none-any.whl (1.6 MB)\n",
      "Requirement already satisfied: numpy in c:\\users\\amnan\\anaconda3\\lib\\site-packages (from Questgen==1.0.0) (1.18.5)\n",
      "Requirement already satisfied: scipy in c:\\users\\amnan\\anaconda3\\lib\\site-packages (from Questgen==1.0.0) (1.6.2)\n",
      "Requirement already satisfied: scikit-learn in c:\\users\\amnan\\anaconda3\\lib\\site-packages (from Questgen==1.0.0) (0.24.1)\n",
      "Collecting unidecode==1.1.1\n",
      "  Downloading Unidecode-1.1.1-py2.py3-none-any.whl (238 kB)\n",
      "Requirement already satisfied: future==0.18.2 in c:\\users\\amnan\\anaconda3\\lib\\site-packages (from Questgen==1.0.0) (0.18.2)\n",
      "Collecting joblib==0.14.1\n",
      "  Downloading joblib-0.14.1-py2.py3-none-any.whl (294 kB)\n",
      "Collecting spacy==2.2.4\n",
      "  Downloading spacy-2.2.4-cp38-cp38-win_amd64.whl (10.1 MB)\n",
      "Collecting pytz==2020.1\n",
      "  Downloading pytz-2020.1-py2.py3-none-any.whl (510 kB)\n",
      "Requirement already satisfied: python-dateutil==2.8.1 in c:\\users\\amnan\\anaconda3\\lib\\site-packages (from Questgen==1.0.0) (2.8.1)\n",
      "Collecting boto3==1.14.40\n",
      "  Downloading boto3-1.14.40-py2.py3-none-any.whl (129 kB)\n",
      "Collecting flashtext==2.7\n",
      "  Downloading flashtext-2.7.tar.gz (14 kB)\n",
      "Requirement already satisfied: pandas in c:\\users\\amnan\\anaconda3\\lib\\site-packages (from Questgen==1.0.0) (1.2.4)\n",
      "Requirement already satisfied: jmespath<1.0.0,>=0.7.1 in c:\\users\\amnan\\anaconda3\\lib\\site-packages (from boto3==1.14.40->Questgen==1.0.0) (0.10.0)\n",
      "Collecting botocore<1.18.0,>=1.17.40\n",
      "  Downloading botocore-1.17.63-py2.py3-none-any.whl (6.6 MB)\n",
      "Collecting s3transfer<0.4.0,>=0.3.0\n",
      "  Downloading s3transfer-0.3.7-py2.py3-none-any.whl (73 kB)\n",
      "Requirement already satisfied: decorator>=4.3.0 in c:\\users\\amnan\\anaconda3\\lib\\site-packages (from networkx==2.4.0->Questgen==1.0.0) (5.0.6)\n",
      "Requirement already satisfied: PyYAML>=5.1 in c:\\users\\amnan\\anaconda3\\lib\\site-packages (from pytorch_lightning==0.8.1->Questgen==1.0.0) (5.4.1)\n",
      "Requirement already satisfied: tensorboard>=1.14 in c:\\users\\amnan\\anaconda3\\lib\\site-packages (from pytorch_lightning==0.8.1->Questgen==1.0.0) (2.5.0)\n",
      "Requirement already satisfied: tqdm>=4.41.0 in c:\\users\\amnan\\anaconda3\\lib\\site-packages (from pytorch_lightning==0.8.1->Questgen==1.0.0) (4.62.2)\n",
      "Requirement already satisfied: catalogue>=0.0.4 in c:\\users\\amnan\\anaconda3\\lib\\site-packages (from sense2vec==1.0.3->Questgen==1.0.0) (2.0.6)\n",
      "Requirement already satisfied: wasabi<1.1.0,>=0.4.0 in c:\\users\\amnan\\anaconda3\\lib\\site-packages (from sense2vec==1.0.3->Questgen==1.0.0) (0.8.2)\n",
      "Requirement already satisfied: srsly>=0.2.0 in c:\\users\\amnan\\anaconda3\\lib\\site-packages (from sense2vec==1.0.3->Questgen==1.0.0) (2.4.2)\n",
      "Collecting thinc==7.4.0\n",
      "  Downloading thinc-7.4.0-cp38-cp38-win_amd64.whl (2.1 MB)\n",
      "Collecting plac<1.2.0,>=0.9.6\n",
      "  Downloading plac-1.1.3-py2.py3-none-any.whl (20 kB)\n",
      "Requirement already satisfied: cymem<2.1.0,>=2.0.2 in c:\\users\\amnan\\anaconda3\\lib\\site-packages (from spacy==2.2.4->Questgen==1.0.0) (2.0.6)\n",
      "Requirement already satisfied: setuptools in c:\\users\\amnan\\anaconda3\\lib\\site-packages (from spacy==2.2.4->Questgen==1.0.0) (52.0.0.post20210125)\n",
      "Collecting srsly>=0.2.0\n",
      "  Downloading srsly-1.0.5-cp38-cp38-win_amd64.whl (178 kB)\n",
      "Requirement already satisfied: preshed<3.1.0,>=3.0.2 in c:\\users\\amnan\\anaconda3\\lib\\site-packages (from spacy==2.2.4->Questgen==1.0.0) (3.0.6)\n",
      "Requirement already satisfied: requests<3.0.0,>=2.13.0 in c:\\users\\amnan\\anaconda3\\lib\\site-packages (from spacy==2.2.4->Questgen==1.0.0) (2.25.1)\n",
      "Collecting blis<0.5.0,>=0.4.0\n",
      "  Downloading blis-0.4.1-cp38-cp38-win_amd64.whl (5.0 MB)\n",
      "Requirement already satisfied: murmurhash<1.1.0,>=0.28.0 in c:\\users\\amnan\\anaconda3\\lib\\site-packages (from spacy==2.2.4->Questgen==1.0.0) (1.0.6)\n",
      "Collecting catalogue>=0.0.4\n",
      "  Downloading catalogue-1.0.0-py2.py3-none-any.whl (7.7 kB)\n",
      "Requirement already satisfied: typing-extensions in c:\\users\\amnan\\anaconda3\\lib\\site-packages (from torch==1.9.0->Questgen==1.0.0) (3.7.4.3)\n",
      "Requirement already satisfied: regex!=2019.12.17 in c:\\users\\amnan\\anaconda3\\lib\\site-packages (from transformers==3.0.2->Questgen==1.0.0) (2021.4.4)\n",
      "Requirement already satisfied: packaging in c:\\users\\amnan\\anaconda3\\lib\\site-packages (from transformers==3.0.2->Questgen==1.0.0) (20.9)\n",
      "Requirement already satisfied: sacremoses in c:\\users\\amnan\\anaconda3\\lib\\site-packages (from transformers==3.0.2->Questgen==1.0.0) (0.0.45)\n",
      "Collecting tokenizers==0.8.1.rc1\n",
      "  Downloading tokenizers-0.8.1rc1-cp38-cp38-win_amd64.whl (1.9 MB)\n",
      "Requirement already satisfied: sentencepiece!=0.1.92 in c:\\users\\amnan\\anaconda3\\lib\\site-packages (from transformers==3.0.2->Questgen==1.0.0) (0.1.96)\n"
     ]
    },
    {
     "name": "stderr",
     "output_type": "stream",
     "text": [
      "  Running command git clone -q https://github.com/ramsrigouthamg/Questgen.ai 'C:\\Users\\amnan\\AppData\\Local\\Temp\\pip-req-build-acbb4j01'\n",
      "ERROR: pip's dependency resolver does not currently take into account all the packages that are installed. This behaviour is the source of the following dependency conflicts.\n",
      "conda-repo-cli 1.0.4 requires pathlib, which is not installed.\n",
      "rasa 2.8.3 requires joblib<1.1.0,>=0.15.1, but you have joblib 0.14.1 which is incompatible.\n",
      "rasa-sdk 2.8.1 requires urllib3<2.0.0,>=1.26.5, but you have urllib3 1.25.11 which is incompatible.\n"
     ]
    },
    {
     "name": "stdout",
     "output_type": "stream",
     "text": [
      "Requirement already satisfied: filelock in c:\\users\\amnan\\anaconda3\\lib\\site-packages (from transformers==3.0.2->Questgen==1.0.0) (3.0.12)\n",
      "Collecting docutils<0.16,>=0.10\n",
      "  Downloading docutils-0.15.2-py3-none-any.whl (547 kB)\n",
      "Collecting urllib3<1.26,>=1.20\n",
      "  Downloading urllib3-1.25.11-py2.py3-none-any.whl (127 kB)\n",
      "Requirement already satisfied: idna<3,>=2.5 in c:\\users\\amnan\\anaconda3\\lib\\site-packages (from requests<3.0.0,>=2.13.0->spacy==2.2.4->Questgen==1.0.0) (2.10)\n",
      "Requirement already satisfied: chardet<5,>=3.0.2 in c:\\users\\amnan\\anaconda3\\lib\\site-packages (from requests<3.0.0,>=2.13.0->spacy==2.2.4->Questgen==1.0.0) (3.0.4)\n",
      "Requirement already satisfied: certifi>=2017.4.17 in c:\\users\\amnan\\anaconda3\\lib\\site-packages (from requests<3.0.0,>=2.13.0->spacy==2.2.4->Questgen==1.0.0) (2020.12.5)\n",
      "Requirement already satisfied: markdown>=2.6.8 in c:\\users\\amnan\\anaconda3\\lib\\site-packages (from tensorboard>=1.14->pytorch_lightning==0.8.1->Questgen==1.0.0) (3.3.4)\n",
      "Requirement already satisfied: tensorboard-plugin-wit>=1.6.0 in c:\\users\\amnan\\anaconda3\\lib\\site-packages (from tensorboard>=1.14->pytorch_lightning==0.8.1->Questgen==1.0.0) (1.8.0)\n",
      "Requirement already satisfied: absl-py>=0.4 in c:\\users\\amnan\\anaconda3\\lib\\site-packages (from tensorboard>=1.14->pytorch_lightning==0.8.1->Questgen==1.0.0) (0.13.0)\n",
      "Requirement already satisfied: google-auth-oauthlib<0.5,>=0.4.1 in c:\\users\\amnan\\anaconda3\\lib\\site-packages (from tensorboard>=1.14->pytorch_lightning==0.8.1->Questgen==1.0.0) (0.4.4)\n",
      "Requirement already satisfied: google-auth<2,>=1.6.3 in c:\\users\\amnan\\anaconda3\\lib\\site-packages (from tensorboard>=1.14->pytorch_lightning==0.8.1->Questgen==1.0.0) (1.33.1)\n",
      "Requirement already satisfied: protobuf>=3.6.0 in c:\\users\\amnan\\anaconda3\\lib\\site-packages (from tensorboard>=1.14->pytorch_lightning==0.8.1->Questgen==1.0.0) (3.17.3)\n",
      "Requirement already satisfied: grpcio>=1.24.3 in c:\\users\\amnan\\anaconda3\\lib\\site-packages (from tensorboard>=1.14->pytorch_lightning==0.8.1->Questgen==1.0.0) (1.34.1)\n",
      "Requirement already satisfied: werkzeug>=0.11.15 in c:\\users\\amnan\\anaconda3\\lib\\site-packages (from tensorboard>=1.14->pytorch_lightning==0.8.1->Questgen==1.0.0) (1.0.1)\n",
      "Requirement already satisfied: tensorboard-data-server<0.7.0,>=0.6.0 in c:\\users\\amnan\\anaconda3\\lib\\site-packages (from tensorboard>=1.14->pytorch_lightning==0.8.1->Questgen==1.0.0) (0.6.1)\n",
      "Requirement already satisfied: wheel>=0.26 in c:\\users\\amnan\\anaconda3\\lib\\site-packages (from tensorboard>=1.14->pytorch_lightning==0.8.1->Questgen==1.0.0) (0.36.2)\n",
      "Requirement already satisfied: rsa<5,>=3.1.4 in c:\\users\\amnan\\anaconda3\\lib\\site-packages (from google-auth<2,>=1.6.3->tensorboard>=1.14->pytorch_lightning==0.8.1->Questgen==1.0.0) (4.7.2)\n",
      "Requirement already satisfied: cachetools<5.0,>=2.0.0 in c:\\users\\amnan\\anaconda3\\lib\\site-packages (from google-auth<2,>=1.6.3->tensorboard>=1.14->pytorch_lightning==0.8.1->Questgen==1.0.0) (4.2.2)\n",
      "Requirement already satisfied: pyasn1-modules>=0.2.1 in c:\\users\\amnan\\anaconda3\\lib\\site-packages (from google-auth<2,>=1.6.3->tensorboard>=1.14->pytorch_lightning==0.8.1->Questgen==1.0.0) (0.2.8)\n",
      "Requirement already satisfied: requests-oauthlib>=0.7.0 in c:\\users\\amnan\\anaconda3\\lib\\site-packages (from google-auth-oauthlib<0.5,>=0.4.1->tensorboard>=1.14->pytorch_lightning==0.8.1->Questgen==1.0.0) (1.3.0)\n",
      "Requirement already satisfied: pyasn1<0.5.0,>=0.4.6 in c:\\users\\amnan\\anaconda3\\lib\\site-packages (from pyasn1-modules>=0.2.1->google-auth<2,>=1.6.3->tensorboard>=1.14->pytorch_lightning==0.8.1->Questgen==1.0.0) (0.4.8)\n",
      "Requirement already satisfied: oauthlib>=3.0.0 in c:\\users\\amnan\\anaconda3\\lib\\site-packages (from requests-oauthlib>=0.7.0->google-auth-oauthlib<0.5,>=0.4.1->tensorboard>=1.14->pytorch_lightning==0.8.1->Questgen==1.0.0) (3.1.1)\n",
      "Requirement already satisfied: colorama in c:\\users\\amnan\\anaconda3\\lib\\site-packages (from tqdm>=4.41.0->pytorch_lightning==0.8.1->Questgen==1.0.0) (0.4.4)\n",
      "Requirement already satisfied: pyparsing>=2.0.2 in c:\\users\\amnan\\anaconda3\\lib\\site-packages (from packaging->transformers==3.0.2->Questgen==1.0.0) (2.4.7)\n",
      "Requirement already satisfied: click in c:\\users\\amnan\\anaconda3\\lib\\site-packages (from sacremoses->transformers==3.0.2->Questgen==1.0.0) (7.1.2)\n",
      "Requirement already satisfied: threadpoolctl>=2.0.0 in c:\\users\\amnan\\anaconda3\\lib\\site-packages (from scikit-learn->Questgen==1.0.0) (2.1.0)\n",
      "Building wheels for collected packages: Questgen, flashtext\n",
      "  Building wheel for Questgen (setup.py): started\n",
      "  Building wheel for Questgen (setup.py): finished with status 'done'\n",
      "  Created wheel for Questgen: filename=Questgen-1.0.0-py3-none-any.whl size=8704 sha256=aa649be6ab79561c4cdf65b78a511773a5eb20be33e5998bb5dfd1c5a1f2a27a\n",
      "  Stored in directory: C:\\Users\\amnan\\AppData\\Local\\Temp\\pip-ephem-wheel-cache-c6rr4ldn\\wheels\\de\\09\\3e\\fa66dbcd8b70e37f55636c84567be559749dedfa2256b7052e\n",
      "  Building wheel for flashtext (setup.py): started\n",
      "  Building wheel for flashtext (setup.py): finished with status 'done'\n",
      "  Created wheel for flashtext: filename=flashtext-2.7-py2.py3-none-any.whl size=9299 sha256=541a49ee2c6e1b2846b7ee2e9b38593ce18d55b4e3faf4ad8cbbf870b56b4fbb\n",
      "  Stored in directory: c:\\users\\amnan\\appdata\\local\\pip\\cache\\wheels\\8d\\62\\8b\\71813348245ae1bcbae179193bbc72db819e8057e89298a6ac\n",
      "Successfully built Questgen flashtext\n",
      "Installing collected packages: urllib3, srsly, plac, docutils, catalogue, blis, thinc, joblib, botocore, tokenizers, spacy, s3transfer, pytz, unidecode, transformers, strsim, sense2vec, pytorch-lightning, networkx, flashtext, boto3, Questgen\n",
      "  Attempting uninstall: urllib3\n",
      "    Found existing installation: urllib3 1.26.6\n",
      "    Uninstalling urllib3-1.26.6:\n",
      "      Successfully uninstalled urllib3-1.26.6\n",
      "  Attempting uninstall: srsly\n",
      "    Found existing installation: srsly 2.4.2\n",
      "    Uninstalling srsly-2.4.2:\n",
      "      Successfully uninstalled srsly-2.4.2\n",
      "  Attempting uninstall: docutils\n",
      "    Found existing installation: docutils 0.17\n",
      "    Uninstalling docutils-0.17:\n",
      "      Successfully uninstalled docutils-0.17\n",
      "  Attempting uninstall: catalogue\n",
      "    Found existing installation: catalogue 2.0.6\n",
      "    Uninstalling catalogue-2.0.6:\n",
      "      Successfully uninstalled catalogue-2.0.6\n",
      "  Attempting uninstall: blis\n",
      "    Found existing installation: blis 0.7.5\n",
      "    Uninstalling blis-0.7.5:\n",
      "      Successfully uninstalled blis-0.7.5\n",
      "  Attempting uninstall: thinc\n",
      "    Found existing installation: thinc 8.0.13\n",
      "    Uninstalling thinc-8.0.13:\n",
      "      Successfully uninstalled thinc-8.0.13\n",
      "  Attempting uninstall: joblib\n",
      "    Found existing installation: joblib 1.0.1\n",
      "    Uninstalling joblib-1.0.1:\n",
      "      Successfully uninstalled joblib-1.0.1\n",
      "  Attempting uninstall: botocore\n",
      "    Found existing installation: botocore 1.21.34\n",
      "    Uninstalling botocore-1.21.34:\n",
      "      Successfully uninstalled botocore-1.21.34\n",
      "  Attempting uninstall: tokenizers\n",
      "    Found existing installation: tokenizers 0.10.3\n",
      "    Uninstalling tokenizers-0.10.3:\n",
      "      Successfully uninstalled tokenizers-0.10.3\n",
      "  Attempting uninstall: spacy\n",
      "    Found existing installation: spacy 3.2.0\n",
      "    Uninstalling spacy-3.2.0:\n",
      "      Successfully uninstalled spacy-3.2.0\n",
      "  Attempting uninstall: s3transfer\n",
      "    Found existing installation: s3transfer 0.5.0\n",
      "    Uninstalling s3transfer-0.5.0:\n",
      "      Successfully uninstalled s3transfer-0.5.0\n",
      "  Attempting uninstall: pytz\n",
      "    Found existing installation: pytz 2021.1\n",
      "    Uninstalling pytz-2021.1:\n",
      "      Successfully uninstalled pytz-2021.1\n",
      "  Attempting uninstall: transformers\n",
      "    Found existing installation: transformers 4.3.3\n",
      "    Uninstalling transformers-4.3.3:\n",
      "      Successfully uninstalled transformers-4.3.3\n",
      "  Attempting uninstall: sense2vec\n",
      "    Found existing installation: sense2vec 2.0.0\n",
      "    Uninstalling sense2vec-2.0.0:\n",
      "      Successfully uninstalled sense2vec-2.0.0\n",
      "  Attempting uninstall: networkx\n",
      "    Found existing installation: networkx 2.5\n",
      "    Uninstalling networkx-2.5:\n",
      "      Successfully uninstalled networkx-2.5\n",
      "  Attempting uninstall: boto3\n",
      "    Found existing installation: boto3 1.18.34\n",
      "    Uninstalling boto3-1.18.34:\n",
      "      Successfully uninstalled boto3-1.18.34\n",
      "  Attempting uninstall: Questgen\n",
      "    Found existing installation: questgen 0.4.2\n",
      "    Uninstalling questgen-0.4.2:\n",
      "      Successfully uninstalled questgen-0.4.2\n",
      "Successfully installed Questgen-1.0.0 blis-0.4.1 boto3-1.14.40 botocore-1.17.63 catalogue-1.0.0 docutils-0.15.2 flashtext-2.7 joblib-0.14.1 networkx-2.4 plac-1.1.3 pytorch-lightning-0.8.1 pytz-2020.1 s3transfer-0.3.7 sense2vec-1.0.3 spacy-2.2.4 srsly-1.0.5 strsim-0.0.3 thinc-7.4.0 tokenizers-0.8.1rc1 transformers-3.0.2 unidecode-1.1.1 urllib3-1.25.11\n"
     ]
    }
   ],
   "source": [
    "!pip install git+https://github.com/ramsrigouthamg/Questgen.ai"
   ]
  },
  {
   "cell_type": "code",
   "execution_count": 2,
   "metadata": {},
   "outputs": [
    {
     "name": "stdout",
     "output_type": "stream",
     "text": [
      "Collecting git+https://github.com/boudinfl/pke.git\n",
      "  Cloning https://github.com/boudinfl/pke.git to c:\\users\\amnan\\appdata\\local\\temp\\pip-req-build-lvkg90en\n",
      "Requirement already satisfied: nltk in c:\\users\\amnan\\anaconda3\\lib\\site-packages (from pke==1.8.1) (3.6.1)\n",
      "Requirement already satisfied: networkx in c:\\users\\amnan\\anaconda3\\lib\\site-packages (from pke==1.8.1) (2.4)\n",
      "Requirement already satisfied: numpy in c:\\users\\amnan\\anaconda3\\lib\\site-packages (from pke==1.8.1) (1.18.5)\n",
      "Requirement already satisfied: scipy in c:\\users\\amnan\\anaconda3\\lib\\site-packages (from pke==1.8.1) (1.6.2)\n",
      "Requirement already satisfied: spacy in c:\\users\\amnan\\anaconda3\\lib\\site-packages (from pke==1.8.1) (2.2.4)\n",
      "Requirement already satisfied: six in c:\\users\\amnan\\anaconda3\\lib\\site-packages (from pke==1.8.1) (1.15.0)\n",
      "Collecting sklearn\n",
      "  Downloading sklearn-0.0.tar.gz (1.1 kB)\n",
      "Requirement already satisfied: unidecode in c:\\users\\amnan\\anaconda3\\lib\\site-packages (from pke==1.8.1) (1.1.1)\n",
      "Requirement already satisfied: future in c:\\users\\amnan\\anaconda3\\lib\\site-packages (from pke==1.8.1) (0.18.2)\n",
      "Requirement already satisfied: joblib in c:\\users\\amnan\\anaconda3\\lib\\site-packages (from pke==1.8.1) (0.14.1)\n",
      "Requirement already satisfied: decorator>=4.3.0 in c:\\users\\amnan\\anaconda3\\lib\\site-packages (from networkx->pke==1.8.1) (5.0.6)\n",
      "Requirement already satisfied: click in c:\\users\\amnan\\anaconda3\\lib\\site-packages (from nltk->pke==1.8.1) (7.1.2)\n",
      "Requirement already satisfied: regex in c:\\users\\amnan\\anaconda3\\lib\\site-packages (from nltk->pke==1.8.1) (2021.4.4)\n",
      "Requirement already satisfied: tqdm in c:\\users\\amnan\\anaconda3\\lib\\site-packages (from nltk->pke==1.8.1) (4.62.2)\n",
      "Requirement already satisfied: scikit-learn in c:\\users\\amnan\\anaconda3\\lib\\site-packages (from sklearn->pke==1.8.1) (0.24.1)\n",
      "Requirement already satisfied: threadpoolctl>=2.0.0 in c:\\users\\amnan\\anaconda3\\lib\\site-packages (from scikit-learn->sklearn->pke==1.8.1) (2.1.0)\n",
      "Requirement already satisfied: thinc==7.4.0 in c:\\users\\amnan\\anaconda3\\lib\\site-packages (from spacy->pke==1.8.1) (7.4.0)\n",
      "Requirement already satisfied: preshed<3.1.0,>=3.0.2 in c:\\users\\amnan\\anaconda3\\lib\\site-packages (from spacy->pke==1.8.1) (3.0.6)\n",
      "Requirement already satisfied: requests<3.0.0,>=2.13.0 in c:\\users\\amnan\\anaconda3\\lib\\site-packages (from spacy->pke==1.8.1) (2.25.1)\n",
      "Requirement already satisfied: plac<1.2.0,>=0.9.6 in c:\\users\\amnan\\anaconda3\\lib\\site-packages (from spacy->pke==1.8.1) (1.1.3)\n",
      "Requirement already satisfied: srsly<1.1.0,>=1.0.2 in c:\\users\\amnan\\anaconda3\\lib\\site-packages (from spacy->pke==1.8.1) (1.0.5)\n",
      "Requirement already satisfied: cymem<2.1.0,>=2.0.2 in c:\\users\\amnan\\anaconda3\\lib\\site-packages (from spacy->pke==1.8.1) (2.0.6)\n",
      "Requirement already satisfied: catalogue<1.1.0,>=0.0.7 in c:\\users\\amnan\\anaconda3\\lib\\site-packages (from spacy->pke==1.8.1) (1.0.0)\n",
      "Requirement already satisfied: setuptools in c:\\users\\amnan\\anaconda3\\lib\\site-packages (from spacy->pke==1.8.1) (52.0.0.post20210125)\n",
      "Requirement already satisfied: wasabi<1.1.0,>=0.4.0 in c:\\users\\amnan\\anaconda3\\lib\\site-packages (from spacy->pke==1.8.1) (0.8.2)\n",
      "Requirement already satisfied: murmurhash<1.1.0,>=0.28.0 in c:\\users\\amnan\\anaconda3\\lib\\site-packages (from spacy->pke==1.8.1) (1.0.6)\n",
      "Requirement already satisfied: blis<0.5.0,>=0.4.0 in c:\\users\\amnan\\anaconda3\\lib\\site-packages (from spacy->pke==1.8.1) (0.4.1)\n",
      "Requirement already satisfied: idna<3,>=2.5 in c:\\users\\amnan\\anaconda3\\lib\\site-packages (from requests<3.0.0,>=2.13.0->spacy->pke==1.8.1) (2.10)\n",
      "Requirement already satisfied: chardet<5,>=3.0.2 in c:\\users\\amnan\\anaconda3\\lib\\site-packages (from requests<3.0.0,>=2.13.0->spacy->pke==1.8.1) (3.0.4)\n",
      "Requirement already satisfied: urllib3<1.27,>=1.21.1 in c:\\users\\amnan\\anaconda3\\lib\\site-packages (from requests<3.0.0,>=2.13.0->spacy->pke==1.8.1) (1.25.11)\n",
      "Requirement already satisfied: certifi>=2017.4.17 in c:\\users\\amnan\\anaconda3\\lib\\site-packages (from requests<3.0.0,>=2.13.0->spacy->pke==1.8.1) (2020.12.5)\n",
      "Requirement already satisfied: colorama in c:\\users\\amnan\\anaconda3\\lib\\site-packages (from tqdm->nltk->pke==1.8.1) (0.4.4)\n",
      "Building wheels for collected packages: pke, sklearn\n",
      "  Building wheel for pke (setup.py): started\n",
      "  Building wheel for pke (setup.py): finished with status 'done'\n",
      "  Created wheel for pke: filename=pke-1.8.1-py3-none-any.whl size=8764737 sha256=54d51f74cb6c6458778e2a69e03bc9b88408b2e6fd2c0049aa8721d8ccbd80f5\n",
      "  Stored in directory: C:\\Users\\amnan\\AppData\\Local\\Temp\\pip-ephem-wheel-cache-ia2mt_ye\\wheels\\29\\30\\7c\\66e4c0828efc7caa6e0369904987d3687d2ebe0ab404367fa1\n",
      "  Building wheel for sklearn (setup.py): started\n",
      "  Building wheel for sklearn (setup.py): finished with status 'done'\n",
      "  Created wheel for sklearn: filename=sklearn-0.0-py2.py3-none-any.whl size=1316 sha256=25d5b1a37f33aab5ae0527d56d3f40561cd004e5e79a49df5cdba8b1b6ed6154\n",
      "  Stored in directory: c:\\users\\amnan\\appdata\\local\\pip\\cache\\wheels\\22\\0b\\40\\fd3f795caaa1fb4c6cb738bc1f56100be1e57da95849bfc897\n",
      "Successfully built pke sklearn\n",
      "Installing collected packages: sklearn, pke\n",
      "Successfully installed pke-1.8.1 sklearn-0.0\n"
     ]
    },
    {
     "name": "stderr",
     "output_type": "stream",
     "text": [
      "  Running command git clone -q https://github.com/boudinfl/pke.git 'C:\\Users\\amnan\\AppData\\Local\\Temp\\pip-req-build-lvkg90en'\n"
     ]
    }
   ],
   "source": [
    "!pip install git+https://github.com/boudinfl/pke.git"
   ]
  },
  {
   "cell_type": "code",
   "execution_count": null,
   "metadata": {},
   "outputs": [],
   "source": []
  }
 ],
 "metadata": {
  "interpreter": {
   "hash": "1260df51115be03152c965d9f96eae7720a32ced914ae11ddbde3f2bd1a19812"
  },
  "kernelspec": {
   "display_name": "Python 3.8.8 64-bit ('base': conda)",
   "language": "python",
   "name": "python3"
  },
  "language_info": {
   "codemirror_mode": {
    "name": "ipython",
    "version": 3
   },
   "file_extension": ".py",
   "mimetype": "text/x-python",
   "name": "python",
   "nbconvert_exporter": "python",
   "pygments_lexer": "ipython3",
   "version": "3.8.8"
  },
  "orig_nbformat": 4
 },
 "nbformat": 4,
 "nbformat_minor": 2
}
